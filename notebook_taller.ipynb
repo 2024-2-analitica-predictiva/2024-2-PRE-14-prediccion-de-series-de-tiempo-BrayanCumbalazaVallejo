{
 "cells": [
  {
   "cell_type": "code",
   "execution_count": 9,
   "id": "784062c4",
   "metadata": {},
   "outputs": [
    {
     "name": "stdout",
     "output_type": "stream",
     "text": [
      "--- Pregunta 1 ---\n",
      "Método de Diferencias Finitas: y(0.9) ≈ -1.031\n",
      "Método del Disparo Lineal:    y(1.5) ≈ -4.810\n"
     ]
    }
   ],
   "source": [
    "import numpy as np\n",
    "import matplotlib.pyplot as plt\n",
    "from DisparoLin import DisparoLin\n",
    "from Diffin_PVF import Diffin_PVF\n",
    "\n",
    "a = 0\n",
    "b = 3\n",
    "alpha = 1\n",
    "beta = 5\n",
    "h = 3/100\n",
    "N = int((b - a) / h)\n",
    "M = N\n",
    "\n",
    "p = lambda x: - (x**2) * np.exp(2*x)\n",
    "q = lambda x: np.arctan(x) * np.exp(2*x)\n",
    "r = lambda x: (2 + 3*x) * np.exp(2*x)\n",
    "\n",
    "F1 = lambda x, Z: [Z[1], p(x)*Z[1] + q(x)*Z[0] + r(x)]\n",
    "F2 = lambda x, Z: [Z[1], p(x)*Z[1] + q(x)*Z[0]]\n",
    "\n",
    "sol_diferencias = Diffin_PVF(p, q, r, a, b, alpha, beta, N)\n",
    "sol_disparo = DisparoLin(F1, F2, a, b, alpha, beta, M)\n",
    "\n",
    "idx_diff = np.where(np.isclose(sol_diferencias[:, 0], 0.9))\n",
    "y_0_9_diff = sol_diferencias[idx_diff, 1].item()\n",
    "\n",
    "idx_shot = np.where(np.isclose(sol_disparo[:, 0], 1.5))\n",
    "y_1_5_shot = sol_disparo[idx_shot, 1].item()\n",
    "\n",
    "print(\"--- Pregunta 1 ---\")\n",
    "print(f\"Método de Diferencias Finitas: y(0.9) ≈ {y_0_9_diff:.3f}\")\n",
    "print(f\"Método del Disparo Lineal:    y(1.5) ≈ {y_1_5_shot:.3f}\")"
   ]
  },
  {
   "cell_type": "code",
   "execution_count": 16,
   "id": "6ab4aeb9",
   "metadata": {},
   "outputs": [
    {
     "name": "stdout",
     "output_type": "stream",
     "text": [
      "--- Punto 3 DifAdelante.py ---\n",
      "El valor aproximado de u(0.2, 0.125) es: 0.73239\n",
      "Redondeado a tres cifras: 0.732\n"
     ]
    }
   ],
   "source": [
    "import numpy as np\n",
    "from DifAdelante import DifAdelante\n",
    "\n",
    "f = lambda x: x * (1 - x)\n",
    "g1 = lambda t: np.exp(-t)\n",
    "g2 = lambda t: np.sin(t)\n",
    "\n",
    "a = 1.0\n",
    "b_target = 0.125\n",
    "c = 2.0\n",
    "h = 0.1\n",
    "k = 0.00125    #Calculado por formula\n",
    "\n",
    "n = int(a / h) + 1\n",
    "m = int(b_target / k) + 1\n",
    "\n",
    "U = DifAdelante(f, g1, g2, a, b_target, c, n, m)\n",
    "\n",
    "i_idx = int(0.2 / h)\n",
    "j_idx = m - 1\n",
    "\n",
    "resultado = U[j_idx, i_idx]\n",
    "\n",
    "print(\"--- Punto 3 DifAdelante.py ---\")\n",
    "print(f\"El valor aproximado de u(0.2, 0.125) es: {resultado:.5f}\")\n",
    "print(f\"Redondeado a tres cifras: {round(resultado, 3)}\")\n"
   ]
  }
 ],
 "metadata": {
  "kernelspec": {
   "display_name": ".venv",
   "language": "python",
   "name": "python3"
  },
  "language_info": {
   "codemirror_mode": {
    "name": "ipython",
    "version": 3
   },
   "file_extension": ".py",
   "mimetype": "text/x-python",
   "name": "python",
   "nbconvert_exporter": "python",
   "pygments_lexer": "ipython3",
   "version": "3.10.11"
  }
 },
 "nbformat": 4,
 "nbformat_minor": 5
}
